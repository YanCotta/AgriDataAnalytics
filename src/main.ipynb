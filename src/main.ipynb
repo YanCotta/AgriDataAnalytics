{
 "cells": [
  {
   "cell_type": "markdown",
   "id": "74142e43",
   "metadata": {},
   "source": [
    "# Análise de Dados Agrícolas\n",
    "\n",
    "Este projeto analisa dados de produtos agrícolas para compreender os impactos do solo e clima nos tipos de culturas.\n",
    "\n",
    "**Objetivos:**\n",
    "- Realizar Análise Exploratória de Dados (AED)\n",
    "- Conduzir análise descritiva\n",
    "- Definir perfis ideais de solo/clima\n",
    "- Construir e avaliar modelos preditivos"
   ]
  },
  {
   "cell_type": "code",
   "execution_count": null,
   "id": "3dc193e3",
   "metadata": {},
   "outputs": [],
   "source": [
    "# Importar bibliotecas necessárias\n",
    "import pandas as pd\n",
    "import numpy as np\n",
    "import matplotlib.pyplot as plt\n",
    "import seaborn as sns\n",
    "from sklearn.model_selection import train_test_split\n",
    "from sklearn.preprocessing import LabelEncoder, StandardScaler\n",
    "from sklearn.tree import DecisionTreeClassifier\n",
    "from sklearn.ensemble import RandomForestClassifier\n",
    "from sklearn.svm import SVC\n",
    "from sklearn.neighbors import KNeighborsClassifier\n",
    "from sklearn.neural_network import MLPClassifier\n",
    "from sklearn.metrics import classification_report, accuracy_score, confusion_matrix\n",
    "from scipy.stats import f_oneway\n",
    "\n",
    "# Definir estilo dos gráficos\n",
    "plt.style.use('seaborn-darkgrid')\n",
    "sns.set_context(\"notebook\", font_scale=1.2)"
   ]
  },
  {
   "cell_type": "markdown",
   "id": "0993cd47",
   "metadata": {},
   "source": [
    "## Carregamento e Exploração Inicial dos Dados"
   ]
  },
  {
   "cell_type": "code",
   "execution_count": null,
   "id": "ff6a0c4f",
   "metadata": {},
   "outputs": [],
   "source": [
    "# Carregar o conjunto de dados\n",
    "df = pd.read_csv('Atividade_Cap_14_produtos_agricolas.csv')\n",
    "\n",
    "# Inspeção inicial\n",
    "print(\"Primeiras 5 linhas:\")\n",
    "display(df.head())\n",
    "\n",
    "print(\"\\nInformações do Dataset:\")\n",
    "display(df.info())\n",
    "\n",
    "print(\"\\nEstatísticas Descritivas:\")\n",
    "display(df.describe())"
   ]
  },
  {
   "cell_type": "markdown",
   "id": "42e2aa30",
   "metadata": {},
   "source": [
    "## Análise Exploratória de Dados (AED)"
   ]
  },
  {
   "cell_type": "code",
   "execution_count": null,
   "id": "bbe28569",
   "metadata": {},
   "outputs": [],
   "source": [
    "# Verificar e tratar valores ausentes\n",
    "print(\"Valores Ausentes:\")\n",
    "display(df.isnull().sum())\n",
    "df = df.fillna(df.mean(numeric_only=True))\n",
    "\n",
    "# Criar histogramas\n",
    "plt.figure(figsize=(12, 8))\n",
    "df.hist(bins=20, figsize=(12, 8), color='skyblue', edgecolor='black')\n",
    "plt.tight_layout()\n",
    "plt.savefig('eda_histogramas.png')\n",
    "plt.show()\n",
    "\n",
    "# Matriz de correlação\n",
    "plt.figure(figsize=(10, 8))\n",
    "corr = df.corr(numeric_only=True)\n",
    "sns.heatmap(corr, annot=True, cmap='viridis', fmt='.2f', linewidths=0.5)\n",
    "plt.title('Matriz de Correlação das Características')\n",
    "plt.savefig('eda_correlacao.png')\n",
    "plt.show()"
   ]
  },
  {
   "cell_type": "markdown",
   "id": "0810a38a",
   "metadata": {},
   "source": [
    "## Análise Descritiva com Visualizações"
   ]
  },
  {
   "cell_type": "code",
   "execution_count": null,
   "id": "556a0d19",
   "metadata": {},
   "outputs": [],
   "source": [
    "# Temperatura vs. Umidade\n",
    "plt.figure(figsize=(12, 6))\n",
    "sns.scatterplot(x='temperature', y='humidity', hue='label', data=df, palette='tab20', s=100)\n",
    "plt.title('Temperatura vs. Umidade por Tipo de Cultura')\n",
    "plt.xlabel('Temperatura (°C)')\n",
    "plt.ylabel('Umidade (%)')\n",
    "plt.legend(bbox_to_anchor=(1.05, 1), loc='upper left')\n",
    "plt.savefig('desc_temp_umidade.png')\n",
    "plt.show()\n",
    "\n",
    "# Análise NPK\n",
    "plt.figure(figsize=(12, 6))\n",
    "df.groupby('label')[['N', 'P', 'K']].mean().plot(kind='bar', color=['#FF9999', '#66B2FF', '#99FF99'])\n",
    "plt.title('Níveis Médios de N, P, K por Tipo de Cultura')\n",
    "plt.xlabel('Tipo de Cultura')\n",
    "plt.ylabel('Nível Médio de Nutrientes')\n",
    "plt.xticks(rotation=45)\n",
    "plt.tight_layout()\n",
    "plt.savefig('desc_npk.png')\n",
    "plt.show()\n",
    "\n",
    "# Visualizações adicionais\n",
    "fig, (ax1, ax2) = plt.subplots(1, 2, figsize=(15, 6))\n",
    "\n",
    "sns.boxplot(x='label', y='ph', data=df, ax=ax1)\n",
    "ax1.set_title('Distribuição do pH por Cultura')\n",
    "ax1.tick_params(axis='x', rotation=45)\n",
    "\n",
    "sns.violinplot(x='label', y='rainfall', data=df, ax=ax2)\n",
    "ax2.set_title('Distribuição da Precipitação por Cultura')\n",
    "ax2.tick_params(axis='x', rotation=45)\n",
    "\n",
    "plt.tight_layout()\n",
    "plt.savefig('desc_distribuicoes.png')\n",
    "plt.show()"
   ]
  },
  {
   "cell_type": "markdown",
   "id": "330a55e6",
   "metadata": {},
   "source": [
    "## Análise do Perfil Ideal de Solo/Clima"
   ]
  },
  {
   "cell_type": "code",
   "execution_count": null,
   "id": "0f446937",
   "metadata": {},
   "outputs": [],
   "source": [
    "# Calcular perfis\n",
    "profile = df.groupby('label').mean(numeric_only=True)\n",
    "ideal_profile = df.mean(numeric_only=True)\n",
    "\n",
    "print(\"Perfil Médio por Cultura:\")\n",
    "display(profile)\n",
    "\n",
    "print(\"\\nPerfil Ideal (Média Global):\")\n",
    "display(ideal_profile)\n",
    "\n",
    "# Teste ANOVA\n",
    "groups = [group['temperature'].values for name, group in df.groupby('label')]\n",
    "f_stat, p_val = f_oneway(*groups)\n",
    "print(f\"\\nTeste ANOVA para Temperatura: Estatística-F={f_stat:.2f}, valor-p={p_val:.4f}\")"
   ]
  },
  {
   "cell_type": "markdown",
   "id": "90e500e2",
   "metadata": {},
   "source": [
    "## Modelagem Preditiva"
   ]
  },
  {
   "cell_type": "code",
   "execution_count": null,
   "id": "7bdeb318",
   "metadata": {},
   "outputs": [],
   "source": [
    "# Preparação dos dados\n",
    "le = LabelEncoder()\n",
    "df['label_encoded'] = le.fit_transform(df['label'])\n",
    "X = df.drop(['label', 'label_encoded'], axis=1)\n",
    "y = df['label_encoded']\n",
    "scaler = StandardScaler()\n",
    "X_scaled = scaler.fit_transform(X)\n",
    "X_train, X_test, y_train, y_test = train_test_split(X_scaled, y, test_size=0.2, random_state=42)\n",
    "\n",
    "# Definir e treinar modelos\n",
    "models = {\n",
    "    'Árvore de Decisão': DecisionTreeClassifier(random_state=42),\n",
    "    'Floresta Aleatória': RandomForestClassifier(n_estimators=100, random_state=42),\n",
    "    'SVM': SVC(probability=True, random_state=42),\n",
    "    'KNN': KNeighborsClassifier(n_neighbors=5),\n",
    "    'Rede Neural': MLPClassifier(hidden_layer_sizes=(100, 50), max_iter=500, random_state=42)\n",
    "}\n",
    "\n",
    "results = {}\n",
    "for name, model in models.items():\n",
    "    model.fit(X_train, y_train)\n",
    "    y_pred = model.predict(X_test)\n",
    "    accuracy = accuracy_score(y_test, y_pred)\n",
    "    results[name] = accuracy\n",
    "    \n",
    "    print(f\"\\nDesempenho do {name}:\")\n",
    "    print(classification_report(y_test, y_pred, target_names=le.classes_))\n",
    "    \n",
    "    # Matriz de confusão\n",
    "    plt.figure(figsize=(8, 6))\n",
    "    cm = confusion_matrix(y_test, y_pred)\n",
    "    sns.heatmap(cm, annot=True, fmt='d', cmap='Blues', \n",
    "                xticklabels=le.classes_, yticklabels=le.classes_)\n",
    "    plt.title(f'Matriz de Confusão - {name}')\n",
    "    plt.xlabel('Previsto')\n",
    "    plt.ylabel('Real')\n",
    "    plt.savefig(f'modelo_mc_{name.lower().replace(\" \", \"_\")}.png')\n",
    "    plt.show()"
   ]
  },
  {
   "cell_type": "markdown",
   "id": "94272b75",
   "metadata": {},
   "source": [
    "## Conclusão\n",
    "\n",
    "Principais descobertas:\n",
    "1. Diferentes culturas mostram requisitos distintos para nutrientes do solo e condições climáticas\n",
    "2. O classificador Floresta Aleatória alcançou o melhor desempenho preditivo\n",
    "3. Temperatura e umidade são fortes indicadores para adequação da cultura\n",
    "\n",
    "Limitações e Trabalhos Futuros:\n",
    "- Considerar dados temporais para efeitos sazonais\n",
    "- Incorporar fatores ambientais adicionais\n",
    "- Explorar oportunidades de engenharia de características"
   ]
  }
 ],
 "metadata": {
  "language_info": {
   "name": "python"
  }
 },
 "nbformat": 4,
 "nbformat_minor": 5
}
